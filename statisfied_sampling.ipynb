{
 "cells": [
  {
   "cell_type": "markdown",
   "id": "incident-classification",
   "metadata": {},
   "source": [
    "### Stratisfied Sampling based on sentence length"
   ]
  },
  {
   "cell_type": "code",
   "execution_count": null,
   "id": "fourth-enemy",
   "metadata": {},
   "outputs": [],
   "source": [
    "import pandas as pd\n",
    "pd.set_option('display.max_colwidth', None)"
   ]
  },
  {
   "cell_type": "code",
   "execution_count": null,
   "id": "particular-romance",
   "metadata": {},
   "outputs": [],
   "source": [
    "dir_path = \"./\"\n",
    "outprefix = \"./data-\"\n",
    "sample_size = 100\n",
    "\n",
    "df = pd.read_csv(f\"{dir_path}/test.csv\")\n",
    "\n",
    "df['slen'] = df.sentence.apply(lambda x : len(str(x).split()))\n",
    "n = len(df)\n",
    "print(n)\n",
    "df.head()"
   ]
  },
  {
   "cell_type": "code",
   "execution_count": null,
   "id": "automatic-tours",
   "metadata": {},
   "outputs": [],
   "source": [
    "sample_1 = df.groupby('slen', group_keys=False).apply(lambda x: x.sample(round(len(x)/n*sample_size)))\n",
    "print(len(sample_1))\n",
    "sample_1.head()"
   ]
  },
  {
   "cell_type": "code",
   "execution_count": null,
   "id": "musical-assumption",
   "metadata": {},
   "outputs": [],
   "source": [
    "df_res = df[(~df.slen.isin(sample_1.slen))]\n",
    "df_res = df_res.groupby('slen', group_keys=False).apply(lambda x: x.sample(1))\n",
    "n_res = sample_size - len(sample_1)\n",
    "print(n_res)\n",
    "\n",
    "sample_2 = df_res.sample(n_res)\n",
    "sample_2.head()"
   ]
  },
  {
   "cell_type": "code",
   "execution_count": null,
   "id": "united-movie",
   "metadata": {},
   "outputs": [],
   "source": [
    "df_infer = pd.concat([sample_1, sample_2])\n",
    "df_infer = df_infer.sample(frac=1)\n",
    "\n",
    "df_infer.to_csv(f\"{outprefix}infer.csv\")\n",
    "with open(f\"{outprefix}infer.txt\", \"w+\") as fw:\n",
    "    for i, row in df_infer.iterrows():\n",
    "        fw.write(f'{row[\"sentence\"]}\\n')"
   ]
  }
 ],
 "metadata": {
  "kernelspec": {
   "display_name": "Python 3",
   "language": "python",
   "name": "python3"
  },
  "language_info": {
   "codemirror_mode": {
    "name": "ipython",
    "version": 3
   },
   "file_extension": ".py",
   "mimetype": "text/x-python",
   "name": "python",
   "nbconvert_exporter": "python",
   "pygments_lexer": "ipython3",
   "version": "3.8.8"
  }
 },
 "nbformat": 4,
 "nbformat_minor": 5
}
